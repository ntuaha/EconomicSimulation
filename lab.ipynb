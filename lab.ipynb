{
 "cells": [
  {
   "cell_type": "code",
   "execution_count": 30,
   "metadata": {},
   "outputs": [],
   "source": [
    "import numpy as np\n",
    "import seaborn as sns\n",
    "import pandas as pd\n",
    "import matplotlib.pyplot as plt\n",
    "\n",
    "%matplotlib inline"
   ]
  },
  {
   "cell_type": "markdown",
   "metadata": {},
   "source": [
    "# 舊貨拍賣模型"
   ]
  },
  {
   "cell_type": "markdown",
   "metadata": {},
   "source": [
    "## 前提\n",
    "\n",
    "假設每個人都可以跟另外一個人進行一次交易，在每次交易的過程，每個人付出的物品的價值(假設為20元)$+$20\\%$ 或者是 $-17\\%$，兩者的機率是相等的，所以每一次交易下來的期望值為"
   ]
  },
  {
   "cell_type": "code",
   "execution_count": 2,
   "metadata": {},
   "outputs": [],
   "source": [
    "def trade(dE,win=0.2,loss=0.17,win_rate = 0.5):\n",
    "    return dE*((1+win)*win_rate + (1-loss)*(1-win_rate))"
   ]
  },
  {
   "cell_type": "code",
   "execution_count": 3,
   "metadata": {},
   "outputs": [
    {
     "data": {
      "text/plain": [
       "20.299999999999997"
      ]
     },
     "execution_count": 3,
     "metadata": {},
     "output_type": "execute_result"
    }
   ],
   "source": [
    "trade(20)"
   ]
  },
  {
   "cell_type": "markdown",
   "metadata": {},
   "source": [
    "首先我們透過 gini值 來表達貧富不均的概況，參考 https://github.com/oliviaguest/gini"
   ]
  },
  {
   "cell_type": "code",
   "execution_count": null,
   "metadata": {},
   "outputs": [],
   "source": [
    "def gini(array):\n",
    "    # ref: \n",
    "    \"\"\"Calculate the Gini coefficient of a numpy array.\"\"\"\n",
    "    # based on bottom eq: http://www.statsdirect.com/help/content/image/stat0206_wmf.gif\n",
    "    # from: http://www.statsdirect.com/help/default.htm#nonparametric_methods/gini.htm\n",
    "    array = array.flatten() #all values are treated equally, arrays must be 1d\n",
    "    if np.amin(array) < 0:\n",
    "        array -= np.amin(array) #values cannot be negative\n",
    "    array += 0.0000001 #values cannot be 0\n",
    "    array = np.sort(array) #values must be sorted\n",
    "    index = np.arange(1,array.shape[0]+1) #index per array element\n",
    "    n = array.shape[0]#number of array elements\n",
    "    return ((np.sum((2 * index - n  - 1) * array)) / (n * np.sum(array))) #Gini coefficient"
   ]
  },
  {
   "cell_type": "markdown",
   "metadata": {},
   "source": [
    "現在假設，手邊有10個人，每個人都擁有100元，每次交易的時候都任意挑出兩個人，並且根據公平的市場機制，並以較窮的一邊作為主角，假設贏了，那麼就獲得主角現額20%，輸了就是付出主角的17%，那麼可以寫出底下的模擬函數"
   ]
  },
  {
   "cell_type": "code",
   "execution_count": 83,
   "metadata": {},
   "outputs": [],
   "source": [
    "def free(population = 100,rounds = 10000):\n",
    "    people = np.ones((population,)) * 100\n",
    "    jump = 0 \n",
    "    print(f'original gini:{gini(people)}')\n",
    "    win_counter = 0\n",
    "    fighters = np.random.choice(population,(rounds,2))\n",
    "    counter = 0\n",
    "    for fighter in fighters:\n",
    "        counter += 1\n",
    "        if counter % int(rounds/10) == 0:\n",
    "            print(f'step {counter} gini:{gini(people)}')\n",
    "        if fighter[0] == fighter[1]:\n",
    "            jump += 1\n",
    "            continue\n",
    "        money1 = people[fighter[0]]\n",
    "        money2 = people[fighter[1]]\n",
    "        #print(f'now {fighters[0]}:{people[fighters[0]]},{fighters[1]}:{people[fighters[1]]}')    \n",
    "        if np.random.random()>0.5:\n",
    "\n",
    "            # win\n",
    "            if money1 > money2:\n",
    "                m = money2*0.2\n",
    "                people[fighter[1]] += m\n",
    "                people[fighter[0]] -= m\n",
    "            else:\n",
    "                m = money1*0.2\n",
    "                people[fighter[1]] -= m\n",
    "                people[fighter[0]] += m\n",
    "            #print(f'win {fighters[0]}:{people[fighters[0]]},{fighters[1]}:{people[fighters[1]]}')\n",
    "            win_counter += 1\n",
    "        else:\n",
    "            # loss\n",
    "            if money1 > money2:\n",
    "                m = money2*0.17\n",
    "                people[fighter[1]] -= m\n",
    "                people[fighter[0]] += m\n",
    "            else:\n",
    "                m = money1*0.17\n",
    "                people[fighter[1]] += m\n",
    "                people[fighter[0]] -= m\n",
    "            #print(f'loss {fighters[0]}:{people[fighters[0]]},{fighters[1]}:{people[fighters[1]]}')\n",
    "    print(win_counter)\n",
    "    print(f'later gini:{gini(people)}')\n",
    "    return people,jump\n",
    "\n",
    "        \n",
    "            \n",
    "        \n",
    "        "
   ]
  },
  {
   "cell_type": "markdown",
   "metadata": {},
   "source": [
    "先算兩萬三千人，每年至少有130次與他人交易的數字"
   ]
  },
  {
   "cell_type": "code",
   "execution_count": 84,
   "metadata": {},
   "outputs": [
    {
     "name": "stdout",
     "output_type": "stream",
     "text": [
      "CPU times: user 3 µs, sys: 0 ns, total: 3 µs\n",
      "Wall time: 5.96 µs\n",
      "original gini:0.0\n",
      "step 299000 gini:0.3660325718745033\n",
      "step 598000 gini:0.4586275886428512\n",
      "step 897000 gini:0.5161267984501084\n",
      "step 1196000 gini:0.5596519474885789\n",
      "step 1495000 gini:0.5925091043317997\n",
      "step 1794000 gini:0.6179983099538289\n",
      "step 2093000 gini:0.638942636614855\n",
      "step 2392000 gini:0.6575550772593395\n",
      "step 2691000 gini:0.6725313445454428\n",
      "step 2990000 gini:0.6866868993149713\n",
      "1494753\n",
      "later gini:0.6866869579878355\n"
     ]
    }
   ],
   "source": [
    "people,jump = free(population=23000,rounds = 230000*13)"
   ]
  },
  {
   "cell_type": "markdown",
   "metadata": {},
   "source": [
    "接著來畫圖看看整體財富分配的狀況"
   ]
  },
  {
   "cell_type": "code",
   "execution_count": 75,
   "metadata": {},
   "outputs": [
    {
     "data": {
      "text/plain": [
       "132"
      ]
     },
     "execution_count": 75,
     "metadata": {},
     "output_type": "execute_result"
    }
   ],
   "source": [
    "jump"
   ]
  },
  {
   "cell_type": "code",
   "execution_count": 77,
   "metadata": {},
   "outputs": [
    {
     "data": {
      "text/plain": [
       "<matplotlib.axes._subplots.AxesSubplot at 0x126ab5ba8>"
      ]
     },
     "execution_count": 77,
     "metadata": {},
     "output_type": "execute_result"
    },
    {
     "data": {
      "image/png": "[encoded data removed]",
      "text/plain": [
       "<Figure size 432x288 with 1 Axes>"
      ]
     },
     "metadata": {
      "needs_background": "light"
     },
     "output_type": "display_data"
    }
   ],
   "source": [
    "df = pd.DataFrame({\"people\": people})\n",
    "sns.distplot(df, kde=False, rug=False)"
   ]
  },
  {
   "cell_type": "code",
   "execution_count": null,
   "metadata": {},
   "outputs": [],
   "source": []
  }
 ],
 "metadata": {
  "kernelspec": {
   "display_name": "Python 3",
   "language": "python",
   "name": "python3"
  },
  "language_info": {
   "codemirror_mode": {
    "name": "ipython",
    "version": 3
   },
   "file_extension": ".py",
   "mimetype": "text/x-python",
   "name": "python",
   "nbconvert_exporter": "python",
   "pygments_lexer": "ipython3",
   "version": "3.7.3"
  }
 },
 "nbformat": 4,
 "nbformat_minor": 4
}
